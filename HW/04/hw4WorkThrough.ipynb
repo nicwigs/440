{
 "cells": [
  {
   "cell_type": "code",
   "execution_count": 1,
   "metadata": {},
   "outputs": [],
   "source": [
    "import numpy as np"
   ]
  },
  {
   "cell_type": "code",
   "execution_count": 5,
   "metadata": {},
   "outputs": [
    {
     "name": "stdout",
     "output_type": "stream",
     "text": [
      "Final values \n"
     ]
    },
    {
     "data": {
      "text/plain": [
       "[2.121212121, 2.121212121, 1.212121212, 1.111111111, 1.111111111]"
      ]
     },
     "execution_count": 5,
     "metadata": {},
     "output_type": "execute_result"
    }
   ],
   "source": [
    "r = [1,-2,2,1,1] # rewards\n",
    "g = 0.1 #gamma\n",
    "c = [[1,2,3,4],[2,3],[0,1,4],[1,4],[3]] #options\n",
    "v0 = [0,0,0,0,0] #inital \n",
    "v1 = [0,0,0,0,0]\n",
    "for k in range(10):\n",
    "    v1 = [max([r[i]+g*v0[i] for i in c[j]]) for j in range(len(v1))]\n",
    "    \n",
    "    v0 = v1.copy()\n",
    "print(\"Final values \")\n",
    "v1"
   ]
  },
  {
   "cell_type": "code",
   "execution_count": 6,
   "metadata": {},
   "outputs": [
    {
     "name": "stdout",
     "output_type": "stream",
     "text": [
      "Optimal Policy\n"
     ]
    },
    {
     "data": {
      "text/plain": [
       "[2, 2, 0, 4, 3]"
      ]
     },
     "execution_count": 6,
     "metadata": {},
     "output_type": "execute_result"
    }
   ],
   "source": [
    "r = [1,-2,2,1,1]\n",
    "g = 0.1\n",
    "c = [[1,2,3,4],[2,3],[0,1,4],[1,4],[3]]\n",
    "v0 = [[0],[0],[0],[0],[0]]\n",
    "\n",
    "for k in range(10):\n",
    "    v1 = [[r[i]+g*max(v0[i]) for i in c[j]] for j in range(len(v1))]\n",
    "    \n",
    "    v0 = v1\n",
    "print(\"Optimal Policy\")\n",
    "[c[i][v1[i].index(max(v1[i]))] for i in range(len(v1))]"
   ]
  },
  {
   "cell_type": "code",
   "execution_count": 12,
   "metadata": {},
   "outputs": [
    {
     "name": "stdout",
     "output_type": "stream",
     "text": [
      "Final values \n"
     ]
    },
    {
     "data": {
      "text/plain": [
       "[3.25, 7.4, 3.9, 19.0]"
      ]
     },
     "execution_count": 12,
     "metadata": {},
     "output_type": "execute_result"
    }
   ],
   "source": [
    "g = 0.9 #gamma\n",
    "\n",
    "v0 = [0,0,0,0] #inital \n",
    "v1 = [0,0,0,0]  \n",
    "\n",
    "for k in range(2):\n",
    "    v1[0] = 1/2*(1+g*v0[1])+1/2*(1+g*v0[2])\n",
    "    v1[1] = max([1*(2+g*v0[2]), 1/2*(2+g*v0[1])+1/2*(2+g*v0[3])])\n",
    "    v1[2] = 1*(3+g*v0[0])\n",
    "    v1[3] = 1*(10+g*v0[3])\n",
    "    v0 = v1.copy()\n",
    "print(\"Final values \")\n",
    "v1"
   ]
  },
  {
   "cell_type": "code",
   "execution_count": 10,
   "metadata": {
    "scrolled": true
   },
   "outputs": [
    {
     "name": "stdout",
     "output_type": "stream",
     "text": [
      "10.0\n",
      "15.0\n",
      "17.5\n",
      "18.75\n",
      "19.375\n",
      "19.6875\n",
      "19.84375\n",
      "19.921875\n",
      "8\n",
      "16\n"
     ]
    }
   ],
   "source": [
    "e = 0.1\n",
    "s3 = 0\n",
    "c = 0\n",
    "s3Old = -100\n",
    "while s3-s3Old > e:\n",
    "    s3Old = s3\n",
    "    s3 = 10+0.5*s3\n",
    "    c += 1\n",
    "    print(s3)\n",
    "print(c)\n",
    "print(4**2)"
   ]
  },
  {
   "cell_type": "code",
   "execution_count": 4,
   "metadata": {
    "scrolled": true
   },
   "outputs": [
    {
     "name": "stdout",
     "output_type": "stream",
     "text": [
      "47.0\n",
      "68.15\n",
      "77.6675\n",
      "81.95037500000001\n",
      "83.87766875\n",
      "84.7449509375\n",
      "85.135227921875\n",
      "85.31085256484374\n",
      "85.38988365417968\n",
      "85.42544764438085\n",
      "85.44145143997139\n",
      "85.44865314798713\n",
      "85.4518939165942\n",
      "85.45335226246739\n",
      "85.45400851811033\n",
      "85.45430383314965\n",
      "85.45443672491734\n",
      "85.45449652621281\n",
      "85.45452343679577\n",
      "85.4545355465581\n",
      "85.45454099595115\n"
     ]
    }
   ],
   "source": [
    "e = 0.00001\n",
    "s1 = 0\n",
    "s1Old = -100\n",
    "while s1-s1Old > e:\n",
    "    s1Old = s1\n",
    "    s1 = 1/2*(2+0.9*s1)+1/2*(2+0.9*100)\n",
    "    print(s1)"
   ]
  },
  {
   "cell_type": "code",
   "execution_count": null,
   "metadata": {},
   "outputs": [],
   "source": []
  }
 ],
 "metadata": {
  "kernelspec": {
   "display_name": "Python 3",
   "language": "python",
   "name": "python3"
  },
  "language_info": {
   "codemirror_mode": {
    "name": "ipython",
    "version": 3
   },
   "file_extension": ".py",
   "mimetype": "text/x-python",
   "name": "python",
   "nbconvert_exporter": "python",
   "pygments_lexer": "ipython3",
   "version": "3.7.1"
  }
 },
 "nbformat": 4,
 "nbformat_minor": 2
}
