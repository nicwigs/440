{
 "cells": [
  {
   "cell_type": "code",
   "execution_count": 1,
   "metadata": {},
   "outputs": [],
   "source": [
    "import numpy as np\n",
    "import sklearn\n",
    "from sklearn import datasets\n",
    "from sklearn.metrics import confusion_matrix\n",
    "import matplotlib.pyplot as plt\n",
    "import matplotlib.ticker as ticker"
   ]
  },
  {
   "cell_type": "markdown",
   "metadata": {},
   "source": [
    "# 1. Packages, Data, and Setup"
   ]
  },
  {
   "cell_type": "markdown",
   "metadata": {},
   "source": [
    "Get the sklearn digit recognition toy dataset, it contains 1797 images.\n",
    "We then take the first 1700 to be our training set and the last 97 for testing"
   ]
  },
  {
   "cell_type": "code",
   "execution_count": 2,
   "metadata": {},
   "outputs": [],
   "source": [
    "# load the data set\n",
    "img,label=sklearn.datasets.load_digits(return_X_y=True)\n",
    "TRAIN_SIZE = 1700\n",
    "# split the data set\n",
    "train_img,test_img = img[:TRAIN_SIZE], img[TRAIN_SIZE:]\n",
    "train_label,test_label = label[:TRAIN_SIZE], label[TRAIN_SIZE:]"
   ]
  },
  {
   "cell_type": "markdown",
   "metadata": {},
   "source": [
    "As can be observed, each of these train img is an 8x8 pixel grayscale image of a handwritten digit, \n",
    "for instance training image number 47 is of the handwritten digit '1'. \n",
    "We can also verify that the label in the dataset is indeed 1."
   ]
  },
  {
   "cell_type": "code",
   "execution_count": 3,
   "metadata": {},
   "outputs": [],
   "source": [
    "IMG_DIM = (8,8)"
   ]
  },
  {
   "cell_type": "code",
   "execution_count": 4,
   "metadata": {},
   "outputs": [
    {
     "name": "stdout",
     "output_type": "stream",
     "text": [
      "label in the dataset is 1\n"
     ]
    },
    {
     "data": {
      "image/png": "[encoded data removed]",
      "text/plain": [
       "<Figure size 288x288 with 1 Axes>"
      ]
     },
     "metadata": {
      "needs_background": "light"
     },
     "output_type": "display_data"
    }
   ],
   "source": [
    "# Try it yourself with any index!\n",
    "img_idx = 47\n",
    "plt.matshow(np.reshape(train_img[img_idx],IMG_DIM),cmap='gray')\n",
    "print('label in the dataset is '+str(train_label[img_idx]))"
   ]
  },
  {
   "cell_type": "markdown",
   "metadata": {},
   "source": [
    "# 2. The Perceptron"
   ]
  },
  {
   "cell_type": "code",
   "execution_count": 5,
   "metadata": {},
   "outputs": [],
   "source": [
    "# Sigmoid Activation Function\n",
    "def sigmoid(x):\n",
    "    return 1 / (1 + np.exp(-x))"
   ]
  },
  {
   "cell_type": "code",
   "execution_count": 6,
   "metadata": {},
   "outputs": [],
   "source": [
    "# tanh Activation Function\n",
    "def tanh(x):\n",
    "    return (np.exp(x) - np.exp(-x)) / ( np.exp(x) + np.exp(-x))"
   ]
  },
  {
   "cell_type": "code",
   "execution_count": 7,
   "metadata": {},
   "outputs": [],
   "source": [
    "# Linear Activation Function\n",
    "def linear(x):\n",
    "    return x"
   ]
  },
  {
   "cell_type": "code",
   "execution_count": 8,
   "metadata": {},
   "outputs": [],
   "source": [
    "# Perceptron Class\n",
    "class Perceptron(object):\n",
    "    # Initialize the perceptron\n",
    "    def __init__(self, function=linear, dim_input=8*8, dim_out=10):\n",
    "        self.w = [np.zeros(dim_input) for ii in range(dim_out)]\n",
    "        self.f = function\n",
    "        self.dim_input = dim_input # dimension of the input (8*8 for our images)\n",
    "        self.dim_out = dim_out # dimension of the output, 10 for the digits 0,1,..,9\n",
    "    \n",
    "    def predict(self,input_array):\n",
    "        # See the \"learning: Multiclass Perceptron\" slides: w_y * f(x)\n",
    "        z = np.matmul(self.w,self.f(input_array))\n",
    "        # The arg max\n",
    "        y = np.argmax(z)\n",
    "        return y,z\n",
    "        \n",
    "    def one_update(self,input_array,label):\n",
    "        y,z = self.predict(input_array)\n",
    "        if y == label:\n",
    "            # Do absolutely nothing\n",
    "            noiceeee = 1\n",
    "        else:\n",
    "            # Updates, see the \"learning: Multiclass Perceptron\" slides\n",
    "            fx = self.f(input_array)\n",
    "            self.w[y] = self.w[y] - fx           # lower wrong answer\n",
    "            self.w[label] = self.w[label] + fx   # raise right answer \n",
    "                    \n",
    "    def train(self, training_inputs, labels):\n",
    "        # for every img label pair in the training set\n",
    "        # perform an update to perceptron\n",
    "        for input_array,label in zip(training_inputs,labels):\n",
    "            self.one_update(input_array,label)\n",
    "    \n",
    "    def test(self, testing_inputs, labels):\n",
    "        # number of correct predictions\n",
    "        count_correct = 0\n",
    "        # a list of the predicted labels the same order as the input \n",
    "        pred_list = []\n",
    "        for test_array, label in zip(testing_inputs,labels):\n",
    "            # Does the predicted label match the actual label?\n",
    "            # Update \"count_correct\" and \"pred_list\"!\n",
    "            y,z = self.predict(test_array)\n",
    "            count_correct += int(y == label)\n",
    "            pred_list.append(y)\n",
    "\n",
    "        accuracy = float(count_correct)/len(test_label)\n",
    "        print('Accuracy is '+str(accuracy))\n",
    "        return np.asarray(pred_list)"
   ]
  },
  {
   "cell_type": "markdown",
   "metadata": {},
   "source": [
    "## 2.1 Testing the Perceptron"
   ]
  },
  {
   "cell_type": "code",
   "execution_count": 9,
   "metadata": {},
   "outputs": [],
   "source": [
    "# Number of epochs (iterations over the training set)\n",
    "NUM_EPOCH = 6"
   ]
  },
  {
   "cell_type": "code",
   "execution_count": 10,
   "metadata": {},
   "outputs": [
    {
     "name": "stdout",
     "output_type": "stream",
     "text": [
      "For sigmoid activation and 6 epochs\n",
      "Accuracy is 0.8247422680412371\n"
     ]
    }
   ],
   "source": [
    "# Try the perceptron with sigmoid activation\n",
    "perceptron = Perceptron(function=sigmoid)\n",
    "for ii in range(NUM_EPOCH):\n",
    "    perceptron.train(train_img , train_label) # Censored! \n",
    "print('For sigmoid activation and '+str(NUM_EPOCH)+' epochs')\n",
    "pred_array = perceptron.test(test_img ,test_label ) # Censored! "
   ]
  },
  {
   "cell_type": "code",
   "execution_count": 11,
   "metadata": {},
   "outputs": [
    {
     "name": "stdout",
     "output_type": "stream",
     "text": [
      "For tanh activation and 6 epochs\n",
      "Accuracy is 0.8556701030927835\n"
     ]
    }
   ],
   "source": [
    "# Try the perceptron with tanh activation\n",
    "perceptron = Perceptron(function=tanh)\n",
    "for ii in range(NUM_EPOCH):\n",
    "    perceptron.train(train_img ,train_label ) # Censored! \n",
    "print('For tanh activation and '+str(NUM_EPOCH)+' epochs')\n",
    "pred_array = perceptron.test(test_img , test_label) # Censored! "
   ]
  },
  {
   "cell_type": "code",
   "execution_count": 12,
   "metadata": {},
   "outputs": [
    {
     "name": "stdout",
     "output_type": "stream",
     "text": [
      "For linear activation and 6 epochs\n",
      "Accuracy is 0.9381443298969072\n"
     ]
    }
   ],
   "source": [
    "# Try the perceptron with linear activation\n",
    "perceptron = Perceptron(function=linear)\n",
    "for ii in range(NUM_EPOCH):\n",
    "    perceptron.train(train_img ,train_label ) # Censored! \n",
    "print('For linear activation and '+str(NUM_EPOCH)+' epochs')\n",
    "pred_array = perceptron.test(test_img ,test_label ) # Censored! "
   ]
  },
  {
   "cell_type": "markdown",
   "metadata": {},
   "source": [
    "## 2.2 Analysis of the results"
   ]
  },
  {
   "cell_type": "code",
   "execution_count": 13,
   "metadata": {},
   "outputs": [
    {
     "data": {
      "image/png": "[encoded data removed]",
      "text/plain": [
       "<Figure size 432x288 with 2 Axes>"
      ]
     },
     "metadata": {
      "needs_background": "light"
     },
     "output_type": "display_data"
    }
   ],
   "source": [
    "#########################################################################################\n",
    "# Confusion matrix shows what we predicted vs what was the real (True) label.\n",
    "# A perfect classifier will have has non zero elements only in the diagonal (why??)\n",
    "# Look at the results outside the diagonal, does it make sense that these mistakes happened?\n",
    "confusion_mat = confusion_matrix(test_label, pred_array, labels=range(0,10))\n",
    "fig = plt.figure()\n",
    "ax = fig.add_subplot(1,1,1)\n",
    "cax = ax.matshow(confusion_mat)\n",
    "plt.title('Confusion Matrix\\n')\n",
    "fig.colorbar(cax)\n",
    "labels = ['0', '1', '2', '3', '4', '5', '6', '7', '8', '9']\n",
    "ax.set_xticklabels(['']+labels)\n",
    "ax.set_yticklabels(['']+labels)\n",
    "ax.xaxis.set_major_locator(ticker.MultipleLocator(1))\n",
    "ax.yaxis.set_major_locator(ticker.MultipleLocator(1))\n",
    "plt.xlabel('Predicted')\n",
    "plt.ylabel('True')\n",
    "plt.show()"
   ]
  },
  {
   "cell_type": "code",
   "execution_count": 14,
   "metadata": {},
   "outputs": [],
   "source": [
    "# Note the perceptron seems to have misclassified some 3s as 8s, these digits do look similar  \n",
    "# so this is to be expected.. what else did we misclassify?\n",
    "\n",
    "#1s and 8s\n",
    "#2s and 3s\n",
    "#2s and 8s\n",
    "#3s and 8s\n",
    "#4s and 7s\n",
    "#5s and 9s\n"
   ]
  },
  {
   "cell_type": "markdown",
   "metadata": {},
   "source": [
    "# 3. Off the shelf classifiers \n",
    "While it is important that you are able to implement classifiers yourself, \n",
    "it is also importent that you learn how to utilize existing packadges and\n",
    "off the shelf methods"
   ]
  },
  {
   "cell_type": "code",
   "execution_count": 15,
   "metadata": {},
   "outputs": [],
   "source": [
    "#########################################################################################\n",
    "# Import the sklearn packadge, it contains many relevent useful algorithm implementations\n",
    "# and datasets (like the one we are using)\n",
    "from sklearn import tree\n",
    "from sklearn import naive_bayes\n",
    "from sklearn import linear_model"
   ]
  },
  {
   "cell_type": "code",
   "execution_count": 16,
   "metadata": {},
   "outputs": [
    {
     "name": "stdout",
     "output_type": "stream",
     "text": [
      "For sklearn decision tree classifier accuracy is:\n",
      "0.865979381443299\n"
     ]
    }
   ],
   "source": [
    "# Decision tree classifiers, what is the best accuracy you can get?\n",
    "decision_tree_classifier = sklearn.tree.DecisionTreeClassifier()\n",
    "decision_tree_classifier.fit(train_img ,train_label ) # Censored!\n",
    "print('For sklearn decision tree classifier accuracy is:')\n",
    "print(decision_tree_classifier.score(test_img ,test_label )) # Censored! "
   ]
  },
  {
   "cell_type": "code",
   "execution_count": 17,
   "metadata": {},
   "outputs": [
    {
     "name": "stdout",
     "output_type": "stream",
     "text": [
      "For sklearn naive bayes classifier accuracy is:\n",
      "0.7938144329896907\n"
     ]
    }
   ],
   "source": [
    "# Naive Bayes classifiers, what is the best accuracy you can get?\n",
    "naive_bayes_classifier = sklearn.naive_bayes.BernoulliNB()\n",
    "naive_bayes_classifier.fit(train_img ,train_label ) # Censored! \n",
    "print('For sklearn naive bayes classifier accuracy is:')\n",
    "print(naive_bayes_classifier.score(test_img ,test_label )) # Censored! "
   ]
  },
  {
   "cell_type": "code",
   "execution_count": 18,
   "metadata": {},
   "outputs": [
    {
     "name": "stdout",
     "output_type": "stream",
     "text": [
      "For sklearn perceptron classifier accuracy is:\n",
      "0.9381443298969072\n",
      "this is same accuracy as linear activation function of my implementation\n"
     ]
    },
    {
     "name": "stderr",
     "output_type": "stream",
     "text": [
      "/Users/nicwiggins/anaconda3/lib/python3.7/site-packages/sklearn/linear_model/stochastic_gradient.py:183: FutureWarning: max_iter and tol parameters have been added in Perceptron in 0.19. If max_iter is set but tol is left unset, the default value for tol in 0.19 and 0.20 will be None (which is equivalent to -infinity, so it has no effect) but will change in 0.21 to 1e-3. Specify tol to silence this warning.\n",
      "  FutureWarning)\n"
     ]
    }
   ],
   "source": [
    "# Finally there is even a perceptron classifier, how does it do compare to your implementation?\n",
    "perceptron_classifier = sklearn.linear_model.Perceptron(max_iter=NUM_EPOCH)\n",
    "perceptron_classifier.fit(train_img ,train_label ) # Censored! \n",
    "print('For sklearn perceptron classifier accuracy is:')\n",
    "print(perceptron_classifier.score(test_img ,test_label )) # Censored! \n",
    "print(\"this is same accuracy as linear activation function of my implementation\")"
   ]
  },
  {
   "cell_type": "code",
   "execution_count": 19,
   "metadata": {},
   "outputs": [
    {
     "data": {
      "image/png": "[encoded data removed]",
      "text/plain": [
       "<Figure size 432x288 with 2 Axes>"
      ]
     },
     "metadata": {
      "needs_background": "light"
     },
     "output_type": "display_data"
    }
   ],
   "source": [
    "###############################################\n",
    "#  How does the decision tree Confusion matrix look like?\n",
    "pred_array = naive_bayes_classifier.predict(test_img)\n",
    "#pred_array = decision_tree_classifier.predict(test_img)\n",
    "#pred_array = perceptron_classifier.predict(test_img)\n",
    "confusion_mat = confusion_matrix(test_label, pred_array, labels=range(0,10))\n",
    "fig = plt.figure()\n",
    "ax = fig.add_subplot(1,1,1)\n",
    "cax = ax.matshow(confusion_mat)\n",
    "plt.title('Confusion Matrix\\n')\n",
    "fig.colorbar(cax)\n",
    "labels = ['0', '1', '2', '3', '4', '5', '6', '7', '8', '9']\n",
    "ax.set_xticklabels(['']+labels)\n",
    "ax.set_yticklabels(['']+labels)\n",
    "ax.xaxis.set_major_locator(ticker.MultipleLocator(1))\n",
    "ax.yaxis.set_major_locator(ticker.MultipleLocator(1))\n",
    "plt.xlabel('Predicted')\n",
    "plt.ylabel('True')\n",
    "plt.show()"
   ]
  },
  {
   "cell_type": "code",
   "execution_count": null,
   "metadata": {},
   "outputs": [],
   "source": []
  }
 ],
 "metadata": {
  "kernelspec": {
   "display_name": "Python 3",
   "language": "python",
   "name": "python3"
  },
  "language_info": {
   "codemirror_mode": {
    "name": "ipython",
    "version": 3
   },
   "file_extension": ".py",
   "mimetype": "text/x-python",
   "name": "python",
   "nbconvert_exporter": "python",
   "pygments_lexer": "ipython3",
   "version": "3.7.1"
  }
 },
 "nbformat": 4,
 "nbformat_minor": 2
}
