{
 "cells": [
  {
   "cell_type": "code",
   "execution_count": 1,
   "metadata": {},
   "outputs": [],
   "source": [
    "import os\n",
    "import nltk\n",
    "import pandas\n",
    "import collections\n",
    "import itertools\n",
    "import numpy as np"
   ]
  },
  {
   "cell_type": "code",
   "execution_count": 2,
   "metadata": {},
   "outputs": [],
   "source": [
    "K = 0.1\n",
    "POS_PATH = './trainData/posTrain/'\n",
    "NEG_PATH = './trainData/negTrain/'\n",
    "POS_TEST_PATH = './TestData/posTest/'\n",
    "NEG_TEST_PATH = './TestData/negTest/'"
   ]
  },
  {
   "cell_type": "code",
   "execution_count": 3,
   "metadata": {},
   "outputs": [],
   "source": [
    "tokenizer = nltk.tokenize.RegexpTokenizer(r'[a-zA-Z]+[\\']*[a-zA-Z]+|[;!?$]')"
   ]
  },
  {
   "cell_type": "code",
   "execution_count": 4,
   "metadata": {},
   "outputs": [],
   "source": [
    "# Get all the training files.. this will take a sec\n",
    "posFileList = [POS_PATH+f for f in os.listdir(POS_PATH)]\n",
    "negFileList = [NEG_PATH+f for f in os.listdir(NEG_PATH)]"
   ]
  },
  {
   "cell_type": "code",
   "execution_count": 5,
   "metadata": {},
   "outputs": [],
   "source": [
    "posTestList = [POS_TEST_PATH+f for f in os.listdir(POS_TEST_PATH)]\n",
    "negTestList = [NEG_TEST_PATH+f for f in os.listdir(NEG_TEST_PATH)]"
   ]
  },
  {
   "cell_type": "code",
   "execution_count": 20,
   "metadata": {},
   "outputs": [],
   "source": [
    "# Input fileList = list of files in directory with all tokens of one class\n",
    "# Returns tokens - list of words in all files. \n",
    "def getTokens(fileList):\n",
    "    tokens = []\n",
    "    for filename in fileList:\n",
    "        with open(filename, 'r', encoding='ISO-8859-1') as f:\n",
    "            rawText = f.read()\n",
    "            tokens += tokenizer.tokenize(rawText)\n",
    "            \n",
    "    return tokens\n"
   ]
  },
  {
   "cell_type": "code",
   "execution_count": 26,
   "metadata": {},
   "outputs": [],
   "source": [
    "posTokens = getTokens(posFileList)\n",
    "negTokens = getTokens(negFileList)"
   ]
  },
  {
   "cell_type": "code",
   "execution_count": 8,
   "metadata": {},
   "outputs": [],
   "source": [
    "conditionalProbPos = {}\n",
    "conditionalProbNeg = {}\n",
    "# Calculate smoothing and prior"
   ]
  },
  {
   "cell_type": "code",
   "execution_count": null,
   "metadata": {},
   "outputs": [],
   "source": []
  },
  {
   "cell_type": "code",
   "execution_count": 20,
   "metadata": {},
   "outputs": [
    {
     "name": "stdout",
     "output_type": "stream",
     "text": [
      "Pred \\ Gold \t P \t N\n",
      "P \t \t 73 \t 21\n",
      "N \t \t 16 \t 69\n"
     ]
    }
   ],
   "source": [
    "TP = sum(resultsP.values())\n",
    "FN = len(resultsP.values()) - TP\n",
    "TN = sum(resultsN.values())\n",
    "FP = len(resultsN.values()) - TN\n",
    "acc = (TP+TN)/(TP+FN+FP+TN)\n",
    "print('Pred \\ Gold \\t P \\t N')\n",
    "print('P \\t \\t '+str(TP)+' \\t '+str(FP))\n",
    "print('N \\t \\t '+str(FN)+' \\t '+str(TN))"
   ]
  },
  {
   "cell_type": "code",
   "execution_count": 19,
   "metadata": {},
   "outputs": [
    {
     "name": "stdout",
     "output_type": "stream",
     "text": [
      "accuracy is: \n",
      "0.793296089385\n"
     ]
    }
   ],
   "source": [
    "acc = (TP+TN)/float(TP+FN+FP+TN)\n",
    "print('accuracy is: ')\n",
    "print(acc)"
   ]
  }
 ],
 "metadata": {
  "kernelspec": {
   "display_name": "Python 3",
   "language": "python",
   "name": "python3"
  },
  "language_info": {
   "codemirror_mode": {
    "name": "ipython",
    "version": 3
   },
   "file_extension": ".py",
   "mimetype": "text/x-python",
   "name": "python",
   "nbconvert_exporter": "python",
   "pygments_lexer": "ipython3",
   "version": "3.7.1"
  }
 },
 "nbformat": 4,
 "nbformat_minor": 2
}
